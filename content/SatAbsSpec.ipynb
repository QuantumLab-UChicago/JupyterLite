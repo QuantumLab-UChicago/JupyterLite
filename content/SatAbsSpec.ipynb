{
  "metadata": {
    "kernelspec": {
      "name": "python",
      "display_name": "Python (Pyodide)",
      "language": "python"
    },
    "language_info": {
      "codemirror_mode": {
        "name": "python",
        "version": 3
      },
      "file_extension": ".py",
      "mimetype": "text/x-python",
      "name": "python",
      "nbconvert_exporter": "python",
      "pygments_lexer": "ipython3",
      "version": "3.8"
    },
    "varInspector": {
      "cols": {
        "lenName": 16,
        "lenType": 16,
        "lenVar": 40
      },
      "kernels_config": {
        "python": {
          "delete_cmd_postfix": "",
          "delete_cmd_prefix": "del ",
          "library": "var_list.py",
          "varRefreshCmd": "print(var_dic_list())"
        },
        "r": {
          "delete_cmd_postfix": ") ",
          "delete_cmd_prefix": "rm(",
          "library": "var_list.r",
          "varRefreshCmd": "cat(var_dic_list()) "
        }
      },
      "types_to_exclude": [
        "module",
        "function",
        "builtin_function_or_method",
        "instance",
        "_Feature"
      ],
      "window_display": false
    }
  },
  "nbformat_minor": 5,
  "nbformat": 4,
  "cells": [
    {
      "id": "0d5b6577",
      "cell_type": "code",
      "source": "import random\nimport pandas as pd\nimport matplotlib.pyplot as plt\nimport numpy as np\nimport micropip\nawait micropip.install(\"ipywidgets\")\nawait micropip.install(\"ipympl\")\n# import qutip as qtp\nfrom matplotlib import cm\nfrom ipywidgets import *\npd.set_option('display.precision', 3)",
      "metadata": {
        "trusted": true
      },
      "outputs": [
        {
          "name": "stderr",
          "output_type": "stream",
          "text": "Matplotlib is building the font cache; this may take a moment.\n"
        }
      ],
      "execution_count": 1
    },
    {
      "id": "16a7e59c",
      "cell_type": "code",
      "source": "%matplotlib widget\n\nimport matplotlib.pyplot as plt\n\nx = np.linspace(0, 2 * np.pi,1000)\nxx = np.linspace(-5, 5,1000)\n\ngrid = plt.GridSpec(2, 3, wspace=0.4, hspace=0.3)\n\n\nfig = plt.figure()\n\n# ax = fig.add_subplot(2, 2, 1)\n# ax2 = fig.add_subplot(2, 2, 3)\n# ax3 = fig.add_subplot(1, 3, 3)\n\nax = plt.subplot(grid[0, :2])\nax2 = plt.subplot(grid[1,:2])\nax3 = plt.subplot(grid[0:, 2])\n\nax3.plot([0,0.9],[0.5]*2, color = 'k', linewidth = 2)\nax3.plot([0,0.9],[0.01]*2, color = 'k', linewidth = 2)\nax.set_xlim([-5,5])\nax.set_ylim([-2.2,2.2])\n# ax2.set_ylim([-0.2,1.2])\nax2.set_ylim([-5,5])\nax2.set_ylim([-0.02,1.2])\nax3.set_ylim([0,1])\nax3.set_xlim([0,1])\n\n# line, = ax.plot(x, np.sin(x))\nline2, = ax2.plot(xx, 1-np.exp(-xx**2), color = 'C3')\n# print(ax3.get_children())\nax3.annotate(r'$|e\\rangle$',(0.95,0.49))\nax3.annotate(r'$|g\\rangle$',(0.95,0.01))\narrow = ax3.arrow(0.5,0.1,0,0.2,color = 'r', linewidth =2,head_length = 0.02, head_width = 0.04)\nax3.axis('off')\nax.axis('off')\n\nax.add_patch(plt.Circle((0, 0), 0.2, color='k'))\narrow_l = ax.arrow(-4,0,1,0,color = 'C3', linewidth =2,head_length = 0.02, head_width = 0.04)\narrow_lv = ax.arrow(0,0,0,0,color = 'C0', linewidth =2,head_length = 0.02, head_width = 0.04)\nax2.set_title(r'Transmitted intensity($I_T/I_0$)')\nax2.set_xlabel(r'Laser frequency $\\omega$')\nax2.set_xticks([-3,0,3])\nax2.set_xticklabels([r\"$\\omega_0 - \\Delta\\omega$\",r\"$\\omega_0$\",r\"$\\omega_0 + \\Delta\\omega$\"])\n\n# print(ax.get_children())\n\ndef flat(data):\n#     return data[data < 0] = 0\n    return np.where(data < 0, 0, data)\n\n\ndef update(v = 1.0, d=0,I=1):\n#     line.set_ydata(d*np.sin(v * x))\n    If =2\n    T=0.18\n    ree = If*I/(1+I+20*d**2)\n    line2.set_ydata(flat(1-ree*np.exp(-((xx-v)/T)**2)))\n    ax3.get_children()[4].remove()\n    ax.get_children()[1].remove()\n    ax.get_children()[1].remove()\n    arrow = ax3.arrow(0.5,0.01,0,0.5*(1+d*0.5)-0.04,color ='C3', linewidth =I*2,head_length = 0.02, head_width = 0.04)\n    arrow_l = ax.arrow(-4,0,1,0,color = 'C3', linewidth =I*2,head_length = 0.03, head_width = 0.04)\n    if abs(v)<0.15:\n        cc = 'k'\n    else:\n        cc = 'C0'\n    arrow_lv = ax.arrow(0,0,v,0,color = cc, linewidth =2,head_length = 0.02, head_width = 0.04)\n    fig.canvas.draw_idle()\n    plt.show()\n\ninteract(update, v=widgets.FloatSlider(min=-3, max=3, step=0.01, value=0, description = r'$v$'),\\\n         d=widgets.FloatSlider(min=-2, max=2, step=0.01, value=0, description = r'$\\delta$'),\\\n#         T=widgets.FloatSlider(min=0.05, max=2.9, step=0.001, value=0.15, description = r'$T$'),\\\n        I=widgets.FloatSlider(min=0.00, max=3, step=0.001, value=0.00, description = r'$I_0$'));",
      "metadata": {
        "trusted": true
      },
      "outputs": [
        {
          "output_type": "display_data",
          "data": {
            "text/plain": "interactive(children=(FloatSlider(value=0.0, description='$v$', max=3.0, min=-3.0, step=0.01), FloatSlider(val…",
            "application/vnd.jupyter.widget-view+json": {
              "version_major": 2,
              "version_minor": 0,
              "model_id": "1a31af735bf141e7b8d9f56782de48b2"
            }
          },
          "metadata": {}
        }
      ],
      "execution_count": 2
    },
    {
      "id": "80988af4",
      "cell_type": "code",
      "source": "%matplotlib widget\n\nimport matplotlib.pyplot as plt\n\nx = np.linspace(0, 2 * np.pi,1000)\nxx = np.linspace(-5, 5,1000)\n\ngrid = plt.GridSpec(3, 3, wspace=0.4, hspace=0.6)\n\n\nfig = plt.figure()\n\n# ax = fig.add_subplot(2, 2, 1)\n# ax2 = fig.add_subplot(2, 2, 3)\n# ax3 = fig.add_subplot(1, 3, 3)\n\nax = plt.subplot(grid[0, :2])\nax1 = plt.subplot(grid[1,:2])\nax2 = plt.subplot(grid[2,:2])\nax3 = plt.subplot(grid[0:, 2])\n\nax3.plot([0,0.9],[0.5]*2, color = 'k', linewidth = 2)\nax3.plot([0,0.9],[0.01]*2, color = 'k', linewidth = 2)\nax.set_xlim([-5,5])\nax.set_ylim([-0.02,1.2])\n# ax2.set_ylim([-0.2,1.2])\nax2.set_ylim([-5,5])\nax2.set_ylim([-0.02,1.2])\nax3.set_ylim([0,1])\nax3.set_xlim([0,1])\n\n# line, = ax.plot(x, np.sin(x))\n\nline, = ax.plot(xx, 1-np.exp(-xx**2), color = 'C3')\npoints, = ax.plot([0], [1-np.exp(-0**2)],'o',color = 'k',linewidth =0, markersize =2)\nline2, = ax2.plot(xx, 1-np.exp(-xx**2), label = 'Ground state')\nline3, = ax1.plot(xx, 1-np.exp(-xx**2), color = 'C1', label = 'Exited state')\n# print(ax3.get_children())\nax3.annotate(r'$|e\\rangle$',(0.95,0.49))\nax3.annotate(r'$|g\\rangle$',(0.95,0.01))\narrow = ax3.arrow(0.5,0.1,0,0.2,color = 'C3', linewidth =2,head_length = 0.02, head_width = 0.04)\nax3.axis('off')\n# ax.axis('off')\nax1.legend(fontsize=\"8\")\nax2.legend(fontsize=\"8\")\n\n# ax2.set_title(r'Ground state')\nax.set_title(r'Transmitted intensity($I_T/I_0$)')\nax.set_xticks([-3,0,3])\nax.set_xticklabels([r\"$\\omega_0 - \\Delta\\omega$\",r\"$\\omega_0$\",r\"$\\omega_0 + \\Delta\\omega$\"])\n\nax1.set_xticks([-3,0,3])\nax1.set_xticklabels([r\"$\\bar{v} - \\Delta v$\",r\"$\\bar{v}$\",r\"$\\bar{v} + \\Delta v$\"])\n\nax2.set_xlabel(r'Velocity distribution')\nax2.set_xticks([-3,0,3])\nax2.set_xticklabels([r\"$\\bar{v} - \\Delta v$\",r\"$\\bar{v}$\",r\"$\\bar{v} + \\Delta v$\"])\n\n# print(ax.get_children())\n\ndef flat(data):\n#     return data[data < 0] = 0\n    return np.where(data < 0, 0, data)\n\n\ndef update( T = 0.18, d=0):\n#     line.set_ydata(d*np.sin(v * x))\n    I=1\n    v=0\n    If =2\n    T0=0.08\n    ree = If*I/(1+I+20*d**2)\n    points.set_xdata([d])\n    points.set_ydata([1-np.exp(-((d)/(0.5*T))**2)])\n    line.set_ydata(flat(1-np.exp(-((xx)/(0.5*T))**2)))\n    line2.set_ydata(flat(1*(np.exp(-((xx-v)/T)**2)))-flat(ree*(np.exp(-((xx-d)/T0)**2))))\n#     line2.set_ydata(flat(ree*(np.exp(-((xx)/T)**2)-np.exp(-((xx-d)/T0)**2))))\n    line3.set_ydata(flat(ree*(np.exp(-((xx-d)/T0)**2))))\n#     -np.exp(-((xx-v)/0.18)**2)\n    ax3.get_children()[4].remove()\n    arrow = ax3.arrow(0.5,0.01,0,0.5*(1+d*0.5)-0.04,color ='C3', linewidth =I*2,head_length = 0.02, head_width = 0.04)\n    \n    fig.canvas.draw_idle()\n    plt.show()\n\ninteract(update, d=widgets.FloatSlider(min=-2, max=2, step=0.01, value=-2, description = r'$\\delta$'),\\\n        T=widgets.FloatSlider(min=0.05, max=2.9, step=0.001, value=1.54, description = r'$T$'));",
      "metadata": {
        "trusted": true
      },
      "outputs": [
        {
          "output_type": "display_data",
          "data": {
            "text/plain": "interactive(children=(FloatSlider(value=1.54, description='$T$', max=2.9, min=0.05, step=0.001), FloatSlider(v…",
            "application/vnd.jupyter.widget-view+json": {
              "version_major": 2,
              "version_minor": 0,
              "model_id": "50e21994ccd44dcdad9bf1f9c9aba823"
            }
          },
          "metadata": {}
        }
      ],
      "execution_count": 3
    },
    {
      "id": "bd7bef55",
      "cell_type": "code",
      "source": "%matplotlib widget\n\nimport matplotlib.pyplot as plt\n\nx = np.linspace(0, 2 * np.pi,1000)\nxx = np.linspace(-5, 5,1000)\n\ngrid = plt.GridSpec(3, 3, wspace=0.4, hspace=0.6)\n\n\nfig = plt.figure()\n\n# ax = fig.add_subplot(2, 2, 1)\n# ax2 = fig.add_subplot(2, 2, 3)\n# ax3 = fig.add_subplot(1, 3, 3)\n\nax = plt.subplot(grid[0, :2])\nax1 = plt.subplot(grid[1,:2])\nax2 = plt.subplot(grid[2,:2])\nax3 = plt.subplot(grid[0:, 2])\n\nax3.plot([0,0.9],[0.5]*2, color = 'k', linewidth = 2)\nax3.plot([0,0.9],[0.01]*2, color = 'k', linewidth = 2)\nax.set_xlim([-5,5])\nax.set_ylim([-0.02,1.2])\n# ax2.set_ylim([-0.2,1.2])\nax2.set_ylim([-5,5])\nax2.set_ylim([-0.02,1.2])\nax3.set_ylim([0,1])\nax3.set_xlim([0,1])\n\n# line, = ax.plot(x, np.sin(x))\n\nline, = ax.plot(xx, 1-np.exp(-xx**2), color = 'C3')\npoints, = ax.plot([0], [1-np.exp(-0**2)],'o',color = 'k',linewidth =0, markersize =2)\nline2, = ax2.plot(xx, 1-np.exp(-xx**2), color = 'C0', label = 'Ground state')\nline3, = ax1.plot(xx, 1-np.exp(-xx**2), color = 'C1', label = 'Exited state')\n# print(ax3.get_children())\nax3.annotate(r'$|e\\rangle$',(0.95,0.49))\nax3.annotate(r'$|g\\rangle$',(0.95,0.01))\narrow = ax3.arrow(0.5,0.1,0,0.2,color = 'C3', linewidth =2,head_length = 0.02, head_width = 0.04)\nax3.axis('off')\n# ax.axis('off')\nax1.legend(fontsize=\"8\")\nax2.legend(fontsize=\"8\", loc = 1)\n\n# ax2.set_title(r'Ground state')\nax.set_title(r'Probe Transmitted intensity($I_T/I_0$)')\nax.set_xticks([-3,0,3])\nax.set_xticklabels([r\"$\\omega_0 - \\Delta\\omega$\",r\"$\\omega_0$\",r\"$\\omega_0 + \\Delta\\omega$\"])\n\nax1.set_xticks([-3,0,3])\nax1.set_xticklabels([r\"$\\bar{v} - \\Delta v$\",r\"$\\bar{v}$\",r\"$\\bar{v} + \\Delta v$\"])\n\nax2.set_xlabel(r'Velocity distribution')\nax2.set_xticks([-3,0,3])\nax2.set_xticklabels([r\"$\\bar{v} - \\Delta v$\",r\"$\\bar{v}$\",r\"$\\bar{v} + \\Delta v$\"])\n\n# print(ax.get_children())\n\ndef flat(data):\n#     return data[data < 0] = 0\n    return np.where(data < 0, 0, data)\n\n\ndef update( T = 0.18, d=0,Ip=1):\n#     line.set_ydata(d*np.sin(v * x))\n    I=6*Ip\n    Ipr = 0.2\n    v=0\n    If =2\n    T0=0.08\n    ree = If*I/(1+I+20*d**2)\n    reepr = 5*If*Ipr/(1+Ipr+20*d**2)\n    reepr0 = If*Ipr/(1+Ipr)\n    points.set_xdata([d])\n    points.set_ydata([1-np.exp(-((d)/(0.5*T))**2)+Ip*reepr0*(np.exp(-((d)/T0)**2))])\n    line.set_ydata(flat(1-np.exp(-((xx)/(0.5*T))**2)+Ip*reepr0*(np.exp(-((xx)/T0)**2))))\n#     line2.set_ydata(flat(1*(np.exp(-((xx-v)/T)**2)))-flat(ree*(np.exp(-((xx-d)/T0)**2)))-flat(reepr*(np.exp(-((xx+d)/T0)**2))))\n    line2.set_ydata(flat(1*(np.exp(-((xx-v)/T)**2))-ree*(np.exp(-((xx-d)/T0)**2))-reepr*(np.exp(-((xx+d)/T0)**2))))\n\n    #     line2.set_ydata(flat(ree*(np.exp(-((xx)/T)**2)-np.exp(-((xx-d)/T0)**2))))\n    line3.set_ydata(0.4*flat(ree*(np.exp(-((xx-d)/T0)**2))+1*reepr*(np.exp(-((xx+d)/T0)**2))))\n#     -np.exp(-((xx-v)/0.18)**2)\n    ax3.get_children()[4].remove()\n    arrow = ax3.arrow(0.5,0.01,0,0.5*(1+d*0.5)-0.04,color ='C3', linewidth =I/3,head_length = 0.02, head_width = 0.04)\n    \n    fig.canvas.draw_idle()\n    plt.show()\n\ninteract(update, d=widgets.FloatSlider(min=-2, max=2, step=0.001, value=-0.72, description = r'$\\delta$'),\\\n        T=widgets.FloatSlider(min=1.0, max=4, step=0.001, value=1.54, description = r'$T$'),\\\n        Ip=widgets.FloatSlider(min=0.00, max=1, step=0.001, value=0, description = r'$I_p$'));",
      "metadata": {
        "trusted": true
      },
      "outputs": [
        {
          "output_type": "display_data",
          "data": {
            "text/plain": "interactive(children=(FloatSlider(value=1.54, description='$T$', max=4.0, min=1.0, step=0.001), FloatSlider(va…",
            "application/vnd.jupyter.widget-view+json": {
              "version_major": 2,
              "version_minor": 0,
              "model_id": "5fbbad64c4464b08945e02e13e80fee3"
            }
          },
          "metadata": {}
        }
      ],
      "execution_count": 4
    },
    {
      "id": "92163912",
      "cell_type": "code",
      "source": "%matplotlib widget\n\nimport matplotlib.pyplot as plt\n\nx = np.linspace(0, 2 * np.pi,1000)\nxx = np.linspace(-5, 5,1000)\n\ngrid = plt.GridSpec(3, 3, wspace=0.4, hspace=0.6)\n\n\nfig = plt.figure()\n\nss = -0.3\nss2 = -1*ss\nks = 0.25\n\n# ax = fig.add_subplot(2, 2, 1)\n# ax2 = fig.add_subplot(2, 2, 3)\n# ax3 = fig.add_subplot(1, 3, 3)\n\nax = plt.subplot(grid[0, :2])\nax1 = plt.subplot(grid[1,:2])\nax2 = plt.subplot(grid[2,:2])\nax3 = plt.subplot(grid[0:, 2])\n\nax3.plot([0,0.9],[0.5+ss*ks]*2, color = 'k', linewidth = 2)\nax3.plot([0,0.9],[0.5+ss2*ks]*2, color = 'k', linewidth = 2)\nax3.plot([0,0.9],[0.5]*2, color = 'k', linewidth = 1, linestyle = '--')\n\nax3.plot([0,0.9],[0.01]*2, color = 'k', linewidth = 2)\nax.set_xlim([-5,5])\nax.set_ylim([-0.02,1.2])\n# ax2.set_ylim([-0.2,1.2])\n\n\nxshift = -0.3\nax1.set_xlim([-5+xshift,5+xshift])\nax2.set_xlim([-5+xshift,5+xshift])\n\nax2.set_ylim([-0.02,1.2])\nax3.set_ylim([0,1])\n\nax3.set_xlim([0,1])\n\n# line, = ax.plot(x, np.sin(x))\n\nkss = 1.0\n\nline, = ax.plot(xx, 1-np.exp(-xx**2), color = 'C3')\npoints, = ax.plot([0], [1-np.exp(-0**2)],'o',color = 'k',linewidth =0, markersize =2)\nline2, = ax2.plot(xx+ss*kss, 1-np.exp(-xx**2), color = 'C0', label = r'$|g\\rangle$')\nline3, = ax1.plot(xx+ss*kss, 1-np.exp(-xx**2), color = 'C1', label = r'$|e_1\\rangle$')\nline3b, = ax1.plot(xx-ss2*kss, 1-np.exp(-xx**2), color = 'C4', label = r'$|e_2\\rangle$')\n# print(ax3.get_children())\nax3.annotate(r'$|e_1\\rangle$',(0.95,0.49+ss*ks))\nax3.annotate(r'$1\\times 2$',(0.95,0.49))\nax3.annotate(r'$|e_2\\rangle$',(0.95,0.49+ss2*ks))\nax3.annotate(r'$|g\\rangle$',(0.95,0.01))\narrow = ax3.arrow(0.5,0.1,0,0.2,color = 'C3', linewidth =2,head_length = 0.02, head_width = 0.04)\nax3.axis('off')\n# ax.axis('off')\nax1.legend(fontsize=\"8\")\nax2.legend(fontsize=\"8\", loc = 1)\n\n# ax2.set_title(r'Ground state')\nax.set_title(r'Probe Transmitted intensity($I_T/I_0$)')\nax.set_xticks([-3,0,3])\nax.set_xticklabels([r\"$\\omega_0 - \\Delta\\omega$\",r\"$\\omega_0$\",r\"$\\omega_0 + \\Delta\\omega$\"])\n\nax1.set_xticks([-3+xshift,0+xshift,3+xshift])\nax1.set_xticklabels([r\"$\\bar{v} - \\Delta v$\",r\"$\\bar{v}$\",r\"$\\bar{v} + \\Delta v$\"])\n\nax2.set_xlabel(r'Velocity distribution')\nax2.set_xticks([-3+xshift,0+xshift,3+xshift])\nax2.set_xticklabels([r\"$\\bar{v} - \\Delta v$\",r\"$\\bar{v}$\",r\"$\\bar{v} + \\Delta v$\"])\n\n\n\n# print(ax.get_children())\n\ndef flat(data):\n#     return data[data < 0] = 0\n    return np.where(data < 0, 0, data)\n\n\ndef update( T = 0.18, d=0,Ip=1):\n#     line.set_ydata(d*np.sin(v * x))\n    I=6*Ip\n    Ipr = 0.2\n    v=0\n    If =2\n    T0=0.08\n    ree = If*I/(1+I+20*d**2)\n    reepr = 5*If*Ipr/(1+Ipr+20*d**2)\n    reepr0 = If*Ipr/(1+Ipr)\n    points.set_xdata([d])\n    points.set_ydata([1-np.exp(-((d)/(0.5*T))**2)+Ip*reepr0*(np.exp(-((d-ss)/T0)**2))\\\n                      +3*Ip*reepr0*(np.exp(-((d)/T0)**2))+Ip*reepr0*(np.exp(-((d-ss2)/T0)**2))])\n    line.set_ydata(flat(1-np.exp(-((xx)/(0.5*T))**2)+Ip*reepr0*(np.exp(-((xx-ss)/T0)**2))\\\n                        +3*Ip*reepr0*(np.exp(-((xx)/T0)**2))+Ip*reepr0*(np.exp(-((xx-ss2)/T0)**2))))\n    ds = d+ss\n#     line2.set_ydata(flat(1*(np.exp(-((xx-v)/T)**2)))-flat(ree*(np.exp(-((xx-d)/T0)**2)))-flat(reepr*(np.exp(-((xx+d)/T0)**2))))\n    line2.set_ydata(flat(1*(np.exp(-((xx)/T)**2))-ree*(np.exp(-((xx-(d-ss))/T0)**2))-reepr*(np.exp(-((xx+(d-ss))/T0)**2))\\\n                                         -ree*(np.exp(-((xx-(d-ss2))/T0)**2))-reepr*(np.exp(-((xx+(d-ss2))/T0)**2))))\n\n    #     line2.set_ydata(flat(ree*(np.exp(-((xx)/T)**2)-np.exp(-((xx-d)/T0)**2))))\n    line3.set_ydata(0.4*flat(ree*(np.exp(-((xx-(d-ss))/T0)**2))+1*reepr*(np.exp(-((xx+(d-ss))/T0)**2))))\n    line3b.set_ydata(0.4*flat(ree*(np.exp(-((xx-(d-ss2))/T0)**2))+1*reepr*(np.exp(-((xx+(d-ss2))/T0)**2))))\n#     -np.exp(-((xx-v)/0.18)**2)\n    ax3.get_children()[8].remove()\n    arrow = ax3.arrow(0.5,0.01,0,0.5*(1+d*0.5)-0.04,color ='C3', linewidth =I/3,head_length = 0.02, head_width = 0.04)\n    \n    fig.canvas.draw_idle()\n    plt.show()\n\ninteract(update, d=widgets.FloatSlider(min=-2, max=2, step=0.001, value=-0.72, description = r'$\\delta$'),\\\n        T=widgets.FloatSlider(min=1.0, max=4, step=0.001, value=1.54, description = r'$T$'),\\\n        Ip=widgets.FloatSlider(min=0.00, max=1, step=0.001, value=0, description = r'$I_p$'));",
      "metadata": {
        "trusted": true
      },
      "outputs": [
        {
          "output_type": "display_data",
          "data": {
            "text/plain": "interactive(children=(FloatSlider(value=1.54, description='$T$', max=4.0, min=1.0, step=0.001), FloatSlider(va…",
            "application/vnd.jupyter.widget-view+json": {
              "version_major": 2,
              "version_minor": 0,
              "model_id": "b99b9691f7e145fa8eb8bb8679dbc938"
            }
          },
          "metadata": {}
        }
      ],
      "execution_count": 5
    },
    {
      "id": "41c30c87",
      "cell_type": "code",
      "source": "",
      "metadata": {},
      "outputs": [],
      "execution_count": null
    }
  ]
}